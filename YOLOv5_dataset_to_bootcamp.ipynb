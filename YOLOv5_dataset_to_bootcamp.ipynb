{
  "nbformat": 4,
  "nbformat_minor": 0,
  "metadata": {
    "colab": {
      "provenance": [],
      "authorship_tag": "ABX9TyM8roLMRx1+Xh3IngwvozHW",
      "include_colab_link": true
    },
    "kernelspec": {
      "name": "python3",
      "display_name": "Python 3"
    },
    "language_info": {
      "name": "python"
    }
  },
  "cells": [
    {
      "cell_type": "markdown",
      "metadata": {
        "id": "view-in-github",
        "colab_type": "text"
      },
      "source": [
        "<a href=\"https://colab.research.google.com/github/ykitaguchi77/grav_bootcamp/blob/master/YOLOv5_dataset_to_bootcamp.ipynb\" target=\"_parent\"><img src=\"https://colab.research.google.com/assets/colab-badge.svg\" alt=\"Open In Colab\"/></a>"
      ]
    },
    {
      "cell_type": "markdown",
      "source": [
        "#**YOLOv5用データセット --> Bootcamp用セット作成**"
      ],
      "metadata": {
        "id": "yoCp7fenPEKM"
      }
    },
    {
      "cell_type": "code",
      "execution_count": 1,
      "metadata": {
        "colab": {
          "base_uri": "https://localhost:8080/"
        },
        "id": "gpuoEVT_PC99",
        "outputId": "d705ef76-773a-4e85-b25f-ffee7ac83856"
      },
      "outputs": [
        {
          "output_type": "stream",
          "name": "stdout",
          "text": [
            "Drive already mounted at /content/drive; to attempt to forcibly remount, call drive.mount(\"/content/drive\", force_remount=True).\n"
          ]
        }
      ],
      "source": [
        "from google.colab import drive\n",
        "drive.mount('/content/drive')"
      ]
    },
    {
      "cell_type": "code",
      "source": [
        "import pandas as pd\n",
        "import glob\n",
        "import os\n",
        "\n",
        "\n",
        "for dataset in [\"train\", \"valid\"]:\n",
        "    dataset_path = f\"/content/drive/MyDrive/Deep_learning/GO_extended_dataset/periocular_for_YOLO_training/{dataset}\" #train or valid \n",
        "\n",
        "    txt_files = []  # txtファイルのパスを格納するリスト\n",
        "    image_paths, name_list, label_list = [],  [], []\n",
        "\n",
        "    # labelフォルダ内のテキストの中の１番目の数字がラベル\n",
        "    for file_name in os.listdir(f\"{dataset_path}/labels\"):\n",
        "        if file_name.endswith('.txt'):\n",
        "            file_path = f\"{dataset_path}/labels/{file_name}\"\n",
        "            name = os.path.basename(file_path).split(\".\")[0] \n",
        "            name_list.append(name.split(\"-\")[0]) #患者IDを抜き出す\n",
        "            image_paths.append(f\"{dataset_path}/images/{name}.JPG\")\n",
        "\n",
        "            with open(file_path, 'r') as f:\n",
        "                for line in f:\n",
        "                    label = line.split()[0]\n",
        "                    label_list.append(label)\n",
        "\n",
        "    # データフレームを作成する\n",
        "    df = pd.DataFrame({'image_path': image_paths, 'name': name_list, 'label': label_list})\n",
        "    print(f\"{dataset}: {len(df)}\")\n",
        "\n",
        "    # データフレームを表示する\n",
        "    df.to_csv(f'/content/drive/MyDrive/Deep_learning/GO_extended_dataset/periocular_for_YOLO_training/{dataset}_list.csv', index=False)\n",
        "\n",
        "\n"
      ],
      "metadata": {
        "colab": {
          "base_uri": "https://localhost:8080/"
        },
        "id": "EQw82cdrPQql",
        "outputId": "0b76f287-b0c2-464f-a5ad-6f775dbaeac0"
      },
      "execution_count": 16,
      "outputs": [
        {
          "output_type": "stream",
          "name": "stdout",
          "text": [
            "train: 2649\n",
            "valid: 664\n"
          ]
        }
      ]
    },
    {
      "cell_type": "markdown",
      "source": [
        "#**Valid_dataset --> hum_evalへ**\n",
        "\n",
        "validデータセットから、なるべく患者が被らないように66×3セットの人力評価用データセットを作成する"
      ],
      "metadata": {
        "id": "RWW2CZBhcdqG"
      }
    },
    {
      "cell_type": "code",
      "source": [
        "import pandas as pd\n",
        "\n",
        "df = pd.read_csv('/content/drive/MyDrive/Deep_learning/GO_extended_dataset/periocular_for_YOLO_training/valid_list.csv')\n",
        "# df = df.sort_values('name') #nameで並べ替え\n",
        "# df = df.sort_values('label') #labelで並べ替え\n",
        "# df = df.reset_index() #index振り直し\n",
        "# df = df.drop('index', axis=1) #indexの列を削除\n",
        "# df\n",
        "#df"
      ],
      "metadata": {
        "id": "xDqptINjQc8B"
      },
      "execution_count": 5,
      "outputs": []
    },
    {
      "cell_type": "code",
      "source": [
        "import pandas as pd\n",
        "\n",
        "def extract_dataset(df):\n",
        "    # nameが重複していないdfを作る（かぶっているものをランダムにdropした）\n",
        "    rows_no_name_duplicate = df.groupby(\"name\").apply(lambda x: x.sample(1)).reset_index(drop=True)\n",
        "\n",
        "    # \"label\"が0の行を取得\n",
        "    label_0_rows = rows_no_name_duplicate[rows_no_name_duplicate[\"label\"]==0]\n",
        "\n",
        "    # \"label\"が1の行を取得\n",
        "    label_1_rows = rows_no_name_duplicate[rows_no_name_duplicate[\"label\"]==1]\n",
        "\n",
        "    # ランダムに33個選択\n",
        "    random_label_0_rows = label_0_rows.sample(n=33, random_state=1)\n",
        "\n",
        "    # ランダムに33個選択\n",
        "    random_label_1_rows = label_1_rows.sample(n=33, random_state=1)\n",
        "\n",
        "    # 上記で抜粋したデータを消去したリストを返す\n",
        "    df_concat = pd.concat([random_label_0_rows, random_label_1_rows])\n",
        "    df_remain = df[~df.isin(df_concat)].dropna()\n",
        "\n",
        "    return random_label_0_rows, random_label_1_rows, df_remain\n",
        "\n",
        "\n",
        "# データセットからIDの被らない33例ずつ（grav, cont)を抜粋\n",
        "step0_cont, step0_grav, df = extract_dataset(df)\n",
        "step1_cont, step1_grav, df = extract_dataset(df)\n",
        "step2_cont, step2_grav, df = extract_dataset(df)\n",
        "\n",
        "#　各ステップのデータセットをシャッフルする\n",
        "phase1 = pd.concat([step0_cont, step0_grav]).sample(frac=1, random_state=2).reset_index(drop=True)\n",
        "phase2 = pd.concat([step1_cont, step1_grav]).sample(frac=1, random_state=3).reset_index(drop=True)\n",
        "phase3 = pd.concat([step2_cont, step2_grav]).sample(frac=1, random_state=4).reset_index(drop=True)"
      ],
      "metadata": {
        "id": "0ANr4pAOec3k"
      },
      "execution_count": 6,
      "outputs": []
    },
    {
      "cell_type": "markdown",
      "source": [
        "#**評価用CSVを作成**"
      ],
      "metadata": {
        "id": "0IzVDbsZkXQZ"
      }
    },
    {
      "cell_type": "code",
      "source": [
        "def make_idxs(phase):\n",
        "    idxs = [f\"phase{phase}_{i:02d}\" for i in range(66)]\n",
        "    return idxs\n",
        "\n",
        "\n",
        "idxs = make_idxs(0) + make_idxs(1) + make_idxs(2)\n",
        "labels = phase1[\"label\"].tolist() + phase2[\"label\"].tolist() + phase3[\"label\"].tolist()\n",
        "paths = phase1[\"image_path\"].tolist() + phase2[\"image_path\"].tolist() + phase3[\"image_path\"].tolist()"
      ],
      "metadata": {
        "id": "XWD6oOWnfkek"
      },
      "execution_count": 7,
      "outputs": []
    },
    {
      "cell_type": "code",
      "source": [
        "columns = [\"idx\", \"label\", \"path\"]\n",
        "participants = [\"ishihara\", \"ohagi\", \"kinoshita\", \"takamine\", \"hayashi\", \"fukuyama\", \"makino\", \"motomura\", \"iwasaki\", \"komatsu\", \"koizumi\", \"kitaguchi\", \"YOLOv5\"] \n",
        "columns.extend(participants)\n",
        "\n",
        "df = pd.DataFrame(index=[], columns=columns)\n",
        "df[\"idx\"] = idxs\n",
        "df[\"label\"] = labels\n",
        "df[\"path\"] = paths"
      ],
      "metadata": {
        "id": "uFJ4Qhny5NfX"
      },
      "execution_count": 8,
      "outputs": []
    },
    {
      "cell_type": "code",
      "source": [
        "#参考 https://github.com/ykitaguchi77/GravCont_classification_colab/blob/master/%E3%80%90%E8%A9%95%E4%BE%A1%E7%94%A8%E3%80%91TrainingSet%E3%81%AE%E3%83%AA%E3%82%B9%E3%83%88CSV%E3%81%A8%E7%95%AA%E5%8F%B7%E4%BB%98%E3%81%8D%E7%94%BB%E5%83%8F%E3%82%92%E4%BD%9C%E6%88%90_colab.ipynb\n",
        "\n",
        "import os\n",
        "import shutil\n",
        "\n",
        "bootcamp_dir = \"/content/drive/MyDrive/Deep_learning/GO_extended_dataset/grav_bootcamp_from_YOLOv5\"\n",
        "img_save_dir = f\"{bootcamp_dir}/images\" #通し番号を記入した画像を保存するパス\n",
        "csv_dir = bootcamp_dir   #画像のリストをCSVに書き出した保存先\n",
        "pdf_save_dir = bootcamp_dir             #画像を番号順にpdf化したものを保存するパス\n",
        "zip_save_dir = bootcamp_dir               #評価画像と回答用csvの組み合わせを圧縮して保存\n",
        "reply_dir = f\"{bootcamp_dir}/reply\"        #返信のcsvを保存するフォルダ\n",
        "\n",
        "for dir in [csv_dir, img_save_dir, pdf_save_dir, zip_save_dir, reply_dir]:\n",
        "    if dir == img_save_dir:\n",
        "        if os.path.exists(dir):\n",
        "            shutil.rmtree(dir)\n",
        "        os.makedirs(dir)\n",
        "    else:\n",
        "        if not os.path.exists(dir):\n",
        "            os.makedirs(dir)\n",
        "\n",
        "for phase in [0,1,2]:\n",
        "    os.makedirs(f\"{img_save_dir}/phase_{phase}\", exist_ok=True)\n"
      ],
      "metadata": {
        "id": "jqLOovdMomqF"
      },
      "execution_count": 10,
      "outputs": []
    },
    {
      "cell_type": "code",
      "source": [
        "#選択した画像をフォルダに移動\n",
        "for i, (idx, path) in enumerate(zip(df[\"idx\"],df[\"path\"])):\n",
        "    print(idx,path)\n",
        "    shutil.copy(path, f\"{img_save_dir}/phase_{idx[5]}/{idx}.jpg\") #idx[5]-->左から5文字目\n"
      ],
      "metadata": {
        "id": "KyErAMifs1-v"
      },
      "execution_count": null,
      "outputs": []
    },
    {
      "cell_type": "code",
      "source": [
        "import zipfile\n",
        "import os\n",
        "\n",
        "def zip_directory(directory_path, zip_file_path, password):\n",
        "    with zipfile.ZipFile(zip_file_path, 'w') as zip_file:\n",
        "        for root, dirs, files in os.walk(directory_path):\n",
        "            for file in files:\n",
        "                file_path = os.path.join(root, file)\n",
        "                zip_file.write(file_path, os.path.relpath(file_path, directory_path), compress_type=zipfile.ZIP_DEFLATED)\n",
        "    zip_file.setpassword(password.encode('utf-8'))\n",
        "\n",
        "os.chdir(img_save_dir) \n",
        "for dir in os.listdir():\n",
        "    zip_directory(dir, f\"{dir}.zip\", 'bootcamp')"
      ],
      "metadata": {
        "id": "ro4qc-PFv2VS"
      },
      "execution_count": 14,
      "outputs": []
    },
    {
      "cell_type": "code",
      "source": [
        "df"
      ],
      "metadata": {
        "id": "IK4zMg9F0h73",
        "outputId": "6a7c90e3-7a10-47e6-c4a3-60edb3d704a4",
        "colab": {
          "base_uri": "https://localhost:8080/",
          "height": 488
        }
      },
      "execution_count": 19,
      "outputs": [
        {
          "output_type": "execute_result",
          "data": {
            "text/plain": [
              "           idx  label                                               path  \\\n",
              "0    phase0_00    0.0  /content/drive/MyDrive/Deep_learning/GO_extend...   \n",
              "1    phase0_01    0.0  /content/drive/MyDrive/Deep_learning/GO_extend...   \n",
              "2    phase0_02    1.0  /content/drive/MyDrive/Deep_learning/GO_extend...   \n",
              "3    phase0_03    0.0  /content/drive/MyDrive/Deep_learning/GO_extend...   \n",
              "4    phase0_04    1.0  /content/drive/MyDrive/Deep_learning/GO_extend...   \n",
              "..         ...    ...                                                ...   \n",
              "193  phase2_61    1.0  /content/drive/MyDrive/Deep_learning/GO_extend...   \n",
              "194  phase2_62    0.0  /content/drive/MyDrive/Deep_learning/GO_extend...   \n",
              "195  phase2_63    0.0  /content/drive/MyDrive/Deep_learning/GO_extend...   \n",
              "196  phase2_64    1.0  /content/drive/MyDrive/Deep_learning/GO_extend...   \n",
              "197  phase2_65    1.0  /content/drive/MyDrive/Deep_learning/GO_extend...   \n",
              "\n",
              "    ishihara ohagi kinoshita takamine hayashi fukuyama makino motomura  \\\n",
              "0        NaN   NaN       NaN      NaN     NaN      NaN    NaN      NaN   \n",
              "1        NaN   NaN       NaN      NaN     NaN      NaN    NaN      NaN   \n",
              "2        NaN   NaN       NaN      NaN     NaN      NaN    NaN      NaN   \n",
              "3        NaN   NaN       NaN      NaN     NaN      NaN    NaN      NaN   \n",
              "4        NaN   NaN       NaN      NaN     NaN      NaN    NaN      NaN   \n",
              "..       ...   ...       ...      ...     ...      ...    ...      ...   \n",
              "193      NaN   NaN       NaN      NaN     NaN      NaN    NaN      NaN   \n",
              "194      NaN   NaN       NaN      NaN     NaN      NaN    NaN      NaN   \n",
              "195      NaN   NaN       NaN      NaN     NaN      NaN    NaN      NaN   \n",
              "196      NaN   NaN       NaN      NaN     NaN      NaN    NaN      NaN   \n",
              "197      NaN   NaN       NaN      NaN     NaN      NaN    NaN      NaN   \n",
              "\n",
              "    iwasaki komatsu koizumi kitaguchi YOLOv5  \n",
              "0       NaN     NaN     NaN       NaN    NaN  \n",
              "1       NaN     NaN     NaN       NaN    NaN  \n",
              "2       NaN     NaN     NaN       NaN    NaN  \n",
              "3       NaN     NaN     NaN       NaN    NaN  \n",
              "4       NaN     NaN     NaN       NaN    NaN  \n",
              "..      ...     ...     ...       ...    ...  \n",
              "193     NaN     NaN     NaN       NaN    NaN  \n",
              "194     NaN     NaN     NaN       NaN    NaN  \n",
              "195     NaN     NaN     NaN       NaN    NaN  \n",
              "196     NaN     NaN     NaN       NaN    NaN  \n",
              "197     NaN     NaN     NaN       NaN    NaN  \n",
              "\n",
              "[198 rows x 16 columns]"
            ],
            "text/html": [
              "\n",
              "  <div id=\"df-0d13e2cf-19ef-474f-84b6-f3e9ad3e6544\">\n",
              "    <div class=\"colab-df-container\">\n",
              "      <div>\n",
              "<style scoped>\n",
              "    .dataframe tbody tr th:only-of-type {\n",
              "        vertical-align: middle;\n",
              "    }\n",
              "\n",
              "    .dataframe tbody tr th {\n",
              "        vertical-align: top;\n",
              "    }\n",
              "\n",
              "    .dataframe thead th {\n",
              "        text-align: right;\n",
              "    }\n",
              "</style>\n",
              "<table border=\"1\" class=\"dataframe\">\n",
              "  <thead>\n",
              "    <tr style=\"text-align: right;\">\n",
              "      <th></th>\n",
              "      <th>idx</th>\n",
              "      <th>label</th>\n",
              "      <th>path</th>\n",
              "      <th>ishihara</th>\n",
              "      <th>ohagi</th>\n",
              "      <th>kinoshita</th>\n",
              "      <th>takamine</th>\n",
              "      <th>hayashi</th>\n",
              "      <th>fukuyama</th>\n",
              "      <th>makino</th>\n",
              "      <th>motomura</th>\n",
              "      <th>iwasaki</th>\n",
              "      <th>komatsu</th>\n",
              "      <th>koizumi</th>\n",
              "      <th>kitaguchi</th>\n",
              "      <th>YOLOv5</th>\n",
              "    </tr>\n",
              "  </thead>\n",
              "  <tbody>\n",
              "    <tr>\n",
              "      <th>0</th>\n",
              "      <td>phase0_00</td>\n",
              "      <td>0.0</td>\n",
              "      <td>/content/drive/MyDrive/Deep_learning/GO_extend...</td>\n",
              "      <td>NaN</td>\n",
              "      <td>NaN</td>\n",
              "      <td>NaN</td>\n",
              "      <td>NaN</td>\n",
              "      <td>NaN</td>\n",
              "      <td>NaN</td>\n",
              "      <td>NaN</td>\n",
              "      <td>NaN</td>\n",
              "      <td>NaN</td>\n",
              "      <td>NaN</td>\n",
              "      <td>NaN</td>\n",
              "      <td>NaN</td>\n",
              "      <td>NaN</td>\n",
              "    </tr>\n",
              "    <tr>\n",
              "      <th>1</th>\n",
              "      <td>phase0_01</td>\n",
              "      <td>0.0</td>\n",
              "      <td>/content/drive/MyDrive/Deep_learning/GO_extend...</td>\n",
              "      <td>NaN</td>\n",
              "      <td>NaN</td>\n",
              "      <td>NaN</td>\n",
              "      <td>NaN</td>\n",
              "      <td>NaN</td>\n",
              "      <td>NaN</td>\n",
              "      <td>NaN</td>\n",
              "      <td>NaN</td>\n",
              "      <td>NaN</td>\n",
              "      <td>NaN</td>\n",
              "      <td>NaN</td>\n",
              "      <td>NaN</td>\n",
              "      <td>NaN</td>\n",
              "    </tr>\n",
              "    <tr>\n",
              "      <th>2</th>\n",
              "      <td>phase0_02</td>\n",
              "      <td>1.0</td>\n",
              "      <td>/content/drive/MyDrive/Deep_learning/GO_extend...</td>\n",
              "      <td>NaN</td>\n",
              "      <td>NaN</td>\n",
              "      <td>NaN</td>\n",
              "      <td>NaN</td>\n",
              "      <td>NaN</td>\n",
              "      <td>NaN</td>\n",
              "      <td>NaN</td>\n",
              "      <td>NaN</td>\n",
              "      <td>NaN</td>\n",
              "      <td>NaN</td>\n",
              "      <td>NaN</td>\n",
              "      <td>NaN</td>\n",
              "      <td>NaN</td>\n",
              "    </tr>\n",
              "    <tr>\n",
              "      <th>3</th>\n",
              "      <td>phase0_03</td>\n",
              "      <td>0.0</td>\n",
              "      <td>/content/drive/MyDrive/Deep_learning/GO_extend...</td>\n",
              "      <td>NaN</td>\n",
              "      <td>NaN</td>\n",
              "      <td>NaN</td>\n",
              "      <td>NaN</td>\n",
              "      <td>NaN</td>\n",
              "      <td>NaN</td>\n",
              "      <td>NaN</td>\n",
              "      <td>NaN</td>\n",
              "      <td>NaN</td>\n",
              "      <td>NaN</td>\n",
              "      <td>NaN</td>\n",
              "      <td>NaN</td>\n",
              "      <td>NaN</td>\n",
              "    </tr>\n",
              "    <tr>\n",
              "      <th>4</th>\n",
              "      <td>phase0_04</td>\n",
              "      <td>1.0</td>\n",
              "      <td>/content/drive/MyDrive/Deep_learning/GO_extend...</td>\n",
              "      <td>NaN</td>\n",
              "      <td>NaN</td>\n",
              "      <td>NaN</td>\n",
              "      <td>NaN</td>\n",
              "      <td>NaN</td>\n",
              "      <td>NaN</td>\n",
              "      <td>NaN</td>\n",
              "      <td>NaN</td>\n",
              "      <td>NaN</td>\n",
              "      <td>NaN</td>\n",
              "      <td>NaN</td>\n",
              "      <td>NaN</td>\n",
              "      <td>NaN</td>\n",
              "    </tr>\n",
              "    <tr>\n",
              "      <th>...</th>\n",
              "      <td>...</td>\n",
              "      <td>...</td>\n",
              "      <td>...</td>\n",
              "      <td>...</td>\n",
              "      <td>...</td>\n",
              "      <td>...</td>\n",
              "      <td>...</td>\n",
              "      <td>...</td>\n",
              "      <td>...</td>\n",
              "      <td>...</td>\n",
              "      <td>...</td>\n",
              "      <td>...</td>\n",
              "      <td>...</td>\n",
              "      <td>...</td>\n",
              "      <td>...</td>\n",
              "      <td>...</td>\n",
              "    </tr>\n",
              "    <tr>\n",
              "      <th>193</th>\n",
              "      <td>phase2_61</td>\n",
              "      <td>1.0</td>\n",
              "      <td>/content/drive/MyDrive/Deep_learning/GO_extend...</td>\n",
              "      <td>NaN</td>\n",
              "      <td>NaN</td>\n",
              "      <td>NaN</td>\n",
              "      <td>NaN</td>\n",
              "      <td>NaN</td>\n",
              "      <td>NaN</td>\n",
              "      <td>NaN</td>\n",
              "      <td>NaN</td>\n",
              "      <td>NaN</td>\n",
              "      <td>NaN</td>\n",
              "      <td>NaN</td>\n",
              "      <td>NaN</td>\n",
              "      <td>NaN</td>\n",
              "    </tr>\n",
              "    <tr>\n",
              "      <th>194</th>\n",
              "      <td>phase2_62</td>\n",
              "      <td>0.0</td>\n",
              "      <td>/content/drive/MyDrive/Deep_learning/GO_extend...</td>\n",
              "      <td>NaN</td>\n",
              "      <td>NaN</td>\n",
              "      <td>NaN</td>\n",
              "      <td>NaN</td>\n",
              "      <td>NaN</td>\n",
              "      <td>NaN</td>\n",
              "      <td>NaN</td>\n",
              "      <td>NaN</td>\n",
              "      <td>NaN</td>\n",
              "      <td>NaN</td>\n",
              "      <td>NaN</td>\n",
              "      <td>NaN</td>\n",
              "      <td>NaN</td>\n",
              "    </tr>\n",
              "    <tr>\n",
              "      <th>195</th>\n",
              "      <td>phase2_63</td>\n",
              "      <td>0.0</td>\n",
              "      <td>/content/drive/MyDrive/Deep_learning/GO_extend...</td>\n",
              "      <td>NaN</td>\n",
              "      <td>NaN</td>\n",
              "      <td>NaN</td>\n",
              "      <td>NaN</td>\n",
              "      <td>NaN</td>\n",
              "      <td>NaN</td>\n",
              "      <td>NaN</td>\n",
              "      <td>NaN</td>\n",
              "      <td>NaN</td>\n",
              "      <td>NaN</td>\n",
              "      <td>NaN</td>\n",
              "      <td>NaN</td>\n",
              "      <td>NaN</td>\n",
              "    </tr>\n",
              "    <tr>\n",
              "      <th>196</th>\n",
              "      <td>phase2_64</td>\n",
              "      <td>1.0</td>\n",
              "      <td>/content/drive/MyDrive/Deep_learning/GO_extend...</td>\n",
              "      <td>NaN</td>\n",
              "      <td>NaN</td>\n",
              "      <td>NaN</td>\n",
              "      <td>NaN</td>\n",
              "      <td>NaN</td>\n",
              "      <td>NaN</td>\n",
              "      <td>NaN</td>\n",
              "      <td>NaN</td>\n",
              "      <td>NaN</td>\n",
              "      <td>NaN</td>\n",
              "      <td>NaN</td>\n",
              "      <td>NaN</td>\n",
              "      <td>NaN</td>\n",
              "    </tr>\n",
              "    <tr>\n",
              "      <th>197</th>\n",
              "      <td>phase2_65</td>\n",
              "      <td>1.0</td>\n",
              "      <td>/content/drive/MyDrive/Deep_learning/GO_extend...</td>\n",
              "      <td>NaN</td>\n",
              "      <td>NaN</td>\n",
              "      <td>NaN</td>\n",
              "      <td>NaN</td>\n",
              "      <td>NaN</td>\n",
              "      <td>NaN</td>\n",
              "      <td>NaN</td>\n",
              "      <td>NaN</td>\n",
              "      <td>NaN</td>\n",
              "      <td>NaN</td>\n",
              "      <td>NaN</td>\n",
              "      <td>NaN</td>\n",
              "      <td>NaN</td>\n",
              "    </tr>\n",
              "  </tbody>\n",
              "</table>\n",
              "<p>198 rows × 16 columns</p>\n",
              "</div>\n",
              "      <button class=\"colab-df-convert\" onclick=\"convertToInteractive('df-0d13e2cf-19ef-474f-84b6-f3e9ad3e6544')\"\n",
              "              title=\"Convert this dataframe to an interactive table.\"\n",
              "              style=\"display:none;\">\n",
              "        \n",
              "  <svg xmlns=\"http://www.w3.org/2000/svg\" height=\"24px\"viewBox=\"0 0 24 24\"\n",
              "       width=\"24px\">\n",
              "    <path d=\"M0 0h24v24H0V0z\" fill=\"none\"/>\n",
              "    <path d=\"M18.56 5.44l.94 2.06.94-2.06 2.06-.94-2.06-.94-.94-2.06-.94 2.06-2.06.94zm-11 1L8.5 8.5l.94-2.06 2.06-.94-2.06-.94L8.5 2.5l-.94 2.06-2.06.94zm10 10l.94 2.06.94-2.06 2.06-.94-2.06-.94-.94-2.06-.94 2.06-2.06.94z\"/><path d=\"M17.41 7.96l-1.37-1.37c-.4-.4-.92-.59-1.43-.59-.52 0-1.04.2-1.43.59L10.3 9.45l-7.72 7.72c-.78.78-.78 2.05 0 2.83L4 21.41c.39.39.9.59 1.41.59.51 0 1.02-.2 1.41-.59l7.78-7.78 2.81-2.81c.8-.78.8-2.07 0-2.86zM5.41 20L4 18.59l7.72-7.72 1.47 1.35L5.41 20z\"/>\n",
              "  </svg>\n",
              "      </button>\n",
              "      \n",
              "  <style>\n",
              "    .colab-df-container {\n",
              "      display:flex;\n",
              "      flex-wrap:wrap;\n",
              "      gap: 12px;\n",
              "    }\n",
              "\n",
              "    .colab-df-convert {\n",
              "      background-color: #E8F0FE;\n",
              "      border: none;\n",
              "      border-radius: 50%;\n",
              "      cursor: pointer;\n",
              "      display: none;\n",
              "      fill: #1967D2;\n",
              "      height: 32px;\n",
              "      padding: 0 0 0 0;\n",
              "      width: 32px;\n",
              "    }\n",
              "\n",
              "    .colab-df-convert:hover {\n",
              "      background-color: #E2EBFA;\n",
              "      box-shadow: 0px 1px 2px rgba(60, 64, 67, 0.3), 0px 1px 3px 1px rgba(60, 64, 67, 0.15);\n",
              "      fill: #174EA6;\n",
              "    }\n",
              "\n",
              "    [theme=dark] .colab-df-convert {\n",
              "      background-color: #3B4455;\n",
              "      fill: #D2E3FC;\n",
              "    }\n",
              "\n",
              "    [theme=dark] .colab-df-convert:hover {\n",
              "      background-color: #434B5C;\n",
              "      box-shadow: 0px 1px 3px 1px rgba(0, 0, 0, 0.15);\n",
              "      filter: drop-shadow(0px 1px 2px rgba(0, 0, 0, 0.3));\n",
              "      fill: #FFFFFF;\n",
              "    }\n",
              "  </style>\n",
              "\n",
              "      <script>\n",
              "        const buttonEl =\n",
              "          document.querySelector('#df-0d13e2cf-19ef-474f-84b6-f3e9ad3e6544 button.colab-df-convert');\n",
              "        buttonEl.style.display =\n",
              "          google.colab.kernel.accessAllowed ? 'block' : 'none';\n",
              "\n",
              "        async function convertToInteractive(key) {\n",
              "          const element = document.querySelector('#df-0d13e2cf-19ef-474f-84b6-f3e9ad3e6544');\n",
              "          const dataTable =\n",
              "            await google.colab.kernel.invokeFunction('convertToInteractive',\n",
              "                                                     [key], {});\n",
              "          if (!dataTable) return;\n",
              "\n",
              "          const docLinkHtml = 'Like what you see? Visit the ' +\n",
              "            '<a target=\"_blank\" href=https://colab.research.google.com/notebooks/data_table.ipynb>data table notebook</a>'\n",
              "            + ' to learn more about interactive tables.';\n",
              "          element.innerHTML = '';\n",
              "          dataTable['output_type'] = 'display_data';\n",
              "          await google.colab.output.renderOutput(dataTable, element);\n",
              "          const docLink = document.createElement('div');\n",
              "          docLink.innerHTML = docLinkHtml;\n",
              "          element.appendChild(docLink);\n",
              "        }\n",
              "      </script>\n",
              "    </div>\n",
              "  </div>\n",
              "  "
            ]
          },
          "metadata": {},
          "execution_count": 19
        }
      ]
    },
    {
      "cell_type": "code",
      "source": [
        "# CSVファイルを保存\n",
        "df.to_csv(f\"{csv_dir}/hum_eval_parent.csv\", index=False)"
      ],
      "metadata": {
        "id": "_iATSCjh0O6U"
      },
      "execution_count": 23,
      "outputs": []
    },
    {
      "cell_type": "code",
      "source": [
        "df_eval = df.drop([\"label\", \"path\", \"kitaguchi\", \"YOLOv5\"], axis=1)\n",
        "df_eval.to_csv(f\"{csv_dir}/hum_eval.csv\", index=False)"
      ],
      "metadata": {
        "id": "xFtoqWWC0nTC"
      },
      "execution_count": 24,
      "outputs": []
    },
    {
      "cell_type": "markdown",
      "source": [
        "#**評価用画像を作成**"
      ],
      "metadata": {
        "id": "F_vltJXUxeWH"
      }
    },
    {
      "cell_type": "code",
      "source": [
        "import cv2\n",
        "from google.colab.patches import cv2_imshow\n",
        "import shutil\n",
        "import glob\n",
        "\n",
        "# save_path = img_save_dir\n",
        "\n",
        "# #save_pathがあれば削除して新しく作り直す\n",
        "# try:\n",
        "#     shutil.rmtree(save_path)\n",
        "#     os.makedirs(save_path)\n",
        "# except FileNotFoundError:\n",
        "#     os.makedirs(save_path)\n",
        "#     pass\n",
        "\n",
        "# #CSVに対応する画像のパスを取得\n",
        "\n",
        "# img_path_list = []\n",
        "# for i in range(len(df3)):\n",
        "#     img_name = df3.iloc[i,0]\n",
        "#     img_class = df3.iloc[i,1]\n",
        "#     img_path_list.append(test_dir + \"/\" +img_class+ \"/\" + img_name)\n",
        "\n",
        "# print(img_path_list)\n",
        "\n",
        "def write_text(image_path, text, save_path):\n",
        "    img = cv2.imread(image_path)\n",
        "    # 文字を加える                                                                                      \n",
        "    cv2.putText(img, text, (20, 60),\n",
        "               cv2.FONT_ITALIC, 1.5,\n",
        "               (255,255,255), 4, cv2.LINE_AA)\n",
        "    #cv2.imwrite(save_path +\"/\" +os.path.basename(image_path), img)\n",
        "    cv2.imwrite(save_path, img)\n",
        "    return(img)\n",
        "\n",
        "for phase in [0,1,2]:\n",
        "    dir = f\"{img_save_dir}/phase_{phase}\"\n",
        "    for idx, path in enumerate(glob.glob(f\"{dir}/*\")):\n",
        "        im = write_text(path, str(os.path.basename(path).split(\".\")[0]), path)\n",
        "        cv2_imshow(im)\n"
      ],
      "metadata": {
        "id": "9Jx2Kk5EwrSR"
      },
      "execution_count": null,
      "outputs": []
    },
    {
      "cell_type": "markdown",
      "source": [
        "#**画像を連結して印刷用のPDFファイルにする**"
      ],
      "metadata": {
        "id": "XtT63V4kyiGj"
      }
    },
    {
      "cell_type": "code",
      "source": [
        "!pip install img2pdf --q\n",
        "import os\n",
        "import img2pdf\n",
        "from PIL import Image # img2pdfと一緒にインストールされたPillowを使います\n",
        "\n",
        "for phase in [0,1,2]:\n",
        "    pdfFileName = f\"phase_{phase}.pdf\"\n",
        "    path = f\"{img_save_dir}/phase_{phase}/*\"\n",
        "    ext = \".jpg\"\n",
        " \n",
        "    with open(pdfFileName, \"wb\") as files:\n",
        "      files.write(img2pdf.convert([i for i in glob.glob(path) if i.endswith(ext)]))"
      ],
      "metadata": {
        "id": "baV746WdypUE",
        "outputId": "700091d1-d46f-456b-c286-5db34ccd18d1",
        "colab": {
          "base_uri": "https://localhost:8080/"
        }
      },
      "execution_count": 17,
      "outputs": [
        {
          "output_type": "stream",
          "name": "stdout",
          "text": [
            "\u001b[?25l     \u001b[90m━━━━━━━━━━━━━━━━━━━━━━━━━━━━━━━━━━━━━━━━\u001b[0m \u001b[32m0.0/97.8 KB\u001b[0m \u001b[31m?\u001b[0m eta \u001b[36m-:--:--\u001b[0m\r\u001b[2K     \u001b[90m━━━━━━━━━━━━━━━━━━━━━━━━━━━━━━━━━━━━━━━━\u001b[0m \u001b[32m97.8/97.8 KB\u001b[0m \u001b[31m3.6 MB/s\u001b[0m eta \u001b[36m0:00:00\u001b[0m\n",
            "\u001b[?25h  Preparing metadata (setup.py) ... \u001b[?25l\u001b[?25hdone\n",
            "\u001b[2K     \u001b[90m━━━━━━━━━━━━━━━━━━━━━━━━━━━━━━━━━━━━━━━━\u001b[0m \u001b[32m2.3/2.3 MB\u001b[0m \u001b[31m28.7 MB/s\u001b[0m eta \u001b[36m0:00:00\u001b[0m\n",
            "\u001b[2K     \u001b[90m━━━━━━━━━━━━━━━━━━━━━━━━━━━━━━━━━━━━━━━━\u001b[0m \u001b[32m3.4/3.4 MB\u001b[0m \u001b[31m54.0 MB/s\u001b[0m eta \u001b[36m0:00:00\u001b[0m\n",
            "\u001b[?25h  Building wheel for img2pdf (setup.py) ... \u001b[?25l\u001b[?25hdone\n"
          ]
        }
      ]
    },
    {
      "cell_type": "code",
      "source": [
        "##PDFにパスワードをかける\n",
        "\n",
        "#input\n",
        "!pip install PyPDF4\n",
        "from PyPDF4 import PdfFileReader\n",
        "from PyPDF4 import PdfFileWriter\n",
        "\n",
        "for phase in [0,1,2]:\n",
        "    # パスワード設定用PDF\n",
        "    pdf = f\"phase_{phase}.pdf\"\n",
        "\n",
        "    # パスワード設定用PDFをバイナリモードで開く\n",
        "    pdf_open = open(pdf,\"rb\")\n",
        "\n",
        "    # PdfFileReaderオブジェクト生成\n",
        "    pdf_reader = PdfFileReader(pdf_open)\n",
        "\n",
        "    # PdfFileWriterオブジェクト\n",
        "    pdf_writer = PdfFileWriter()\n",
        "\n",
        "    # PDFのページ数取得\n",
        "    num = pdf_reader.numPages\n",
        "\n",
        "    # PDFページコピー\n",
        "    for cp in range(num):\n",
        "        page = pdf_reader.getPage(cp)\n",
        "        pdf_writer.addPage(page)\n",
        "\n",
        "    # パスワードの指定\n",
        "    password = \"6903\"\n",
        "    pdf_writer.encrypt(password)\n",
        "\n",
        "    # 暗号化情報を書き込み\n",
        "    with open(pdf.replace('.pdf','') + r'_encrypt.pdf','wb') as f:\n",
        "        pdf_writer.write(f)"
      ],
      "metadata": {
        "id": "n8dzjWAwysIg",
        "outputId": "e059468d-b102-49cf-f3a9-7932447bc54d",
        "colab": {
          "base_uri": "https://localhost:8080/"
        }
      },
      "execution_count": 18,
      "outputs": [
        {
          "output_type": "stream",
          "name": "stdout",
          "text": [
            "Looking in indexes: https://pypi.org/simple, https://us-python.pkg.dev/colab-wheels/public/simple/\n",
            "Collecting PyPDF4\n",
            "  Downloading PyPDF4-1.27.0.tar.gz (63 kB)\n",
            "\u001b[2K     \u001b[90m━━━━━━━━━━━━━━━━━━━━━━━━━━━━━━━━━━━━━━━━\u001b[0m \u001b[32m63.9/63.9 KB\u001b[0m \u001b[31m2.2 MB/s\u001b[0m eta \u001b[36m0:00:00\u001b[0m\n",
            "\u001b[?25h  Preparing metadata (setup.py) ... \u001b[?25l\u001b[?25hdone\n",
            "Building wheels for collected packages: PyPDF4\n",
            "  Building wheel for PyPDF4 (setup.py) ... \u001b[?25l\u001b[?25hdone\n",
            "  Created wheel for PyPDF4: filename=PyPDF4-1.27.0-py3-none-any.whl size=61248 sha256=5bee5acf6956ce1039a5f0b806e3488a562781b4d1a14e0d360811a7584e0202\n",
            "  Stored in directory: /root/.cache/pip/wheels/f0/79/75/d130281ec9996a2551dbdd1836aa4beb376d53f8cdca49b4b0\n",
            "Successfully built PyPDF4\n",
            "Installing collected packages: PyPDF4\n",
            "Successfully installed PyPDF4-1.27.0\n"
          ]
        },
        {
          "output_type": "stream",
          "name": "stderr",
          "text": [
            "PdfReadWarning: Xref table not zero-indexed. ID numbers for objects will be corrected. [pdf.py:1801]\n"
          ]
        }
      ]
    }
  ]
}