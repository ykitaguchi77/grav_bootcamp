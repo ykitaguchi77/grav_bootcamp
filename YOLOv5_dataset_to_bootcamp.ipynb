{
  "nbformat": 4,
  "nbformat_minor": 0,
  "metadata": {
    "colab": {
      "provenance": [],
      "authorship_tag": "ABX9TyOWeJjS8KdQxs7LSsy9Pd4+",
      "include_colab_link": true
    },
    "kernelspec": {
      "name": "python3",
      "display_name": "Python 3"
    },
    "language_info": {
      "name": "python"
    }
  },
  "cells": [
    {
      "cell_type": "markdown",
      "metadata": {
        "id": "view-in-github",
        "colab_type": "text"
      },
      "source": [
        "<a href=\"https://colab.research.google.com/github/ykitaguchi77/grav_bootcamp/blob/master/YOLOv5_dataset_to_bootcamp.ipynb\" target=\"_parent\"><img src=\"https://colab.research.google.com/assets/colab-badge.svg\" alt=\"Open In Colab\"/></a>"
      ]
    },
    {
      "cell_type": "markdown",
      "source": [
        "#**YOLOv5用データセット --> Bootcamp用セット作成**"
      ],
      "metadata": {
        "id": "yoCp7fenPEKM"
      }
    },
    {
      "cell_type": "code",
      "execution_count": 18,
      "metadata": {
        "colab": {
          "base_uri": "https://localhost:8080/"
        },
        "id": "gpuoEVT_PC99",
        "outputId": "374e6779-8e0b-40ac-e0df-2b16877bbbd9"
      },
      "outputs": [
        {
          "output_type": "stream",
          "name": "stdout",
          "text": [
            "Drive already mounted at /content/drive; to attempt to forcibly remount, call drive.mount(\"/content/drive\", force_remount=True).\n"
          ]
        }
      ],
      "source": [
        "from google.colab import drive\n",
        "drive.mount('/content/drive')"
      ]
    },
    {
      "cell_type": "code",
      "source": [
        "import pandas as pd\n",
        "import glob\n",
        "import os\n",
        "\n",
        "\n",
        "for dataset in [\"train\", \"valid\"]:\n",
        "    dataset_path = f\"/content/drive/MyDrive/Deep_learning/GO_extended_dataset/periocular_for_YOLO_training/{dataset}\" #train or valid \n",
        "\n",
        "    txt_files = []  # txtファイルのパスを格納するリスト\n",
        "    image_paths, label_list = [],  []\n",
        "\n",
        "    # labelフォルダ内のテキストの中の１番目の数字がラベル\n",
        "    for file_name in os.listdir(f\"{dataset_path}/labels\"):\n",
        "        if file_name.endswith('.txt'):\n",
        "            file_path = f\"{dataset_path}/labels/{file_name}\"\n",
        "            name = os.path.basename(file_path).split(\".\")[0] \n",
        "            image_paths.append(f\"{dataset_path}/images/{name}.JPG\")\n",
        "\n",
        "            with open(file_path, 'r') as f:\n",
        "                for line in f:\n",
        "                    label = line.split()[0]\n",
        "                    label_list.append(label)\n",
        "\n",
        "    # データフレームを作成する\n",
        "    df = pd.DataFrame({'image_path': image_paths, 'label': label_list})\n",
        "    print(f\"{dataset}: {len(df)}\")\n",
        "\n",
        "    # データフレームを表示する\n",
        "    df.to_csv(f'/content/drive/MyDrive/Deep_learning/GO_extended_dataset/periocular_for_YOLO_training/{dataset}_list.csv', index=False)\n",
        "\n",
        "\n"
      ],
      "metadata": {
        "colab": {
          "base_uri": "https://localhost:8080/"
        },
        "id": "EQw82cdrPQql",
        "outputId": "2c5fbe6d-21ce-48e2-cef7-f594d605c534"
      },
      "execution_count": 21,
      "outputs": [
        {
          "output_type": "stream",
          "name": "stdout",
          "text": [
            "train: 2649\n",
            "valid: 664\n"
          ]
        }
      ]
    },
    {
      "cell_type": "code",
      "source": [],
      "metadata": {
        "id": "xDqptINjQc8B"
      },
      "execution_count": null,
      "outputs": []
    }
  ]
}